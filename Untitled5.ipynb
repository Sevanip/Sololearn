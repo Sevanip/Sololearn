{
  "nbformat": 4,
  "nbformat_minor": 0,
  "metadata": {
    "colab": {
      "provenance": [],
      "authorship_tag": "ABX9TyP4hs2YOnNnzk1/j2fp73B4",
      "include_colab_link": true
    },
    "kernelspec": {
      "name": "python3",
      "display_name": "Python 3"
    },
    "language_info": {
      "name": "python"
    }
  },
  "cells": [
    {
      "cell_type": "markdown",
      "metadata": {
        "id": "view-in-github",
        "colab_type": "text"
      },
      "source": [
        "<a href=\"https://colab.research.google.com/github/Sevanip/Sololearn/blob/main/Untitled5.ipynb\" target=\"_parent\"><img src=\"https://colab.research.google.com/assets/colab-badge.svg\" alt=\"Open In Colab\"/></a>"
      ]
    },
    {
      "cell_type": "markdown",
      "source": [
        "#Search Engine"
      ],
      "metadata": {
        "id": "oPoLkYQQiXnM"
      }
    },
    {
      "cell_type": "code",
      "source": [
        "'''The given code takes a text and word as input and passes them to a function called search(). \n",
        "The search() function should return 'word found if the word is present in the text, or 'word now found',if it's not.\n",
        "'''"
      ],
      "metadata": {
        "id": "gkFdmKp7icyn"
      },
      "execution_count": null,
      "outputs": []
    },
    {
      "cell_type": "code",
      "source": [
        "def search(x,y):\n",
        "  if y in x:\n",
        "    return \"Word found\"\n",
        "  else:\n",
        "    return \"Word not found\"\n",
        "text = input()\n",
        "word = input()\n",
        "\n",
        "print(search(text, word))"
      ],
      "metadata": {
        "colab": {
          "base_uri": "https://localhost:8080/"
        },
        "id": "lfTr7ry0jDeY",
        "outputId": "9575dccd-43b2-4278-b0be-afb3b5d44c7d"
      },
      "execution_count": 1,
      "outputs": [
        {
          "output_type": "stream",
          "name": "stdout",
          "text": [
            "i am having a great day.\n",
            "not\n",
            "Word not found\n"
          ]
        }
      ]
    },
    {
      "cell_type": "code",
      "source": [],
      "metadata": {
        "id": "63N4IITDjDSA"
      },
      "execution_count": null,
      "outputs": []
    }
  ]
}