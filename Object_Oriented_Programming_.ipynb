{
  "nbformat": 4,
  "nbformat_minor": 0,
  "metadata": {
    "colab": {
      "provenance": [],
      "authorship_tag": "ABX9TyMwilfsvH2ZXQTlHXVtpLbG",
      "include_colab_link": true
    },
    "kernelspec": {
      "name": "python3",
      "display_name": "Python 3"
    },
    "language_info": {
      "name": "python"
    }
  },
  "cells": [
    {
      "cell_type": "markdown",
      "metadata": {
        "id": "view-in-github",
        "colab_type": "text"
      },
      "source": [
        "<a href=\"https://colab.research.google.com/github/Sevanip/Sololearn/blob/main/Object_Oriented_Programming_.ipynb\" target=\"_parent\"><img src=\"https://colab.research.google.com/assets/colab-badge.svg\" alt=\"Open In Colab\"/></a>"
      ]
    },
    {
      "cell_type": "markdown",
      "source": [
        "#You are making a video game! The given code declares a Player class, with its attributes and an intro() method.\n",
        "#complete the code to take the name and level from user input, create a Player object with the corresponding values and call the intro() method of that object."
      ],
      "metadata": {
        "id": "doTwoWMphTta"
      }
    },
    {
      "cell_type": "code",
      "execution_count": 1,
      "metadata": {
        "colab": {
          "base_uri": "https://localhost:8080/"
        },
        "id": "HIZlAAoVhBmM",
        "outputId": "4ec67ac8-6ce7-498a-cd87-99817be704c6"
      },
      "outputs": [
        {
          "output_type": "stream",
          "name": "stdout",
          "text": [
            "Monika\n",
            "12\n",
            "Monika (Level 12)\n"
          ]
        }
      ],
      "source": [
        "class Player:\n",
        "    def __init__(self, name, level):\n",
        "        self.name = name\n",
        "        self.level = level\n",
        "\n",
        "    def intro(self):\n",
        "        print(self.name + \" (Level \" + self.level + \")\")\n",
        "\n",
        "#your code goes here\n",
        "name = input()\n",
        "level = input()\n",
        "\n",
        "user = Player(name, level)\n",
        "user.intro()"
      ]
    }
  ]
}