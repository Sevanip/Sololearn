{
  "nbformat": 4,
  "nbformat_minor": 0,
  "metadata": {
    "colab": {
      "provenance": [],
      "authorship_tag": "ABX9TyMGj5s1XuZnsxPCyq34hjvS",
      "include_colab_link": true
    },
    "kernelspec": {
      "name": "python3",
      "display_name": "Python 3"
    },
    "language_info": {
      "name": "python"
    }
  },
  "cells": [
    {
      "cell_type": "markdown",
      "metadata": {
        "id": "view-in-github",
        "colab_type": "text"
      },
      "source": [
        "<a href=\"https://colab.research.google.com/github/Sevanip/Sololearn/blob/main/Lambda%2C_dict%2C_power%2C_sets.ipynb\" target=\"_parent\"><img src=\"https://colab.research.google.com/assets/colab-badge.svg\" alt=\"Open In Colab\"/></a>"
      ]
    },
    {
      "cell_type": "code",
      "execution_count": null,
      "metadata": {
        "id": "NnGSl7EbpnaA"
      },
      "outputs": [],
      "source": [
        "#text = input()\n",
        "#dict = {}\n"
      ]
    },
    {
      "cell_type": "code",
      "source": [
        "text = input()\n",
        "dict = {}\n",
        "for i in text:\n",
        "  dict[i] = dict.get(i,0) + 1\n",
        "print(dict)"
      ],
      "metadata": {
        "colab": {
          "base_uri": "https://localhost:8080/"
        },
        "id": "dTvqWWBsq_8Q",
        "outputId": "65ff54a8-d17b-4919-ad5e-9f40ac4187fb"
      },
      "execution_count": null,
      "outputs": [
        {
          "output_type": "stream",
          "name": "stdout",
          "text": [
            "yellow\n",
            "{'y': 1, 'e': 1, 'l': 2, 'o': 1, 'w': 1}\n"
          ]
        }
      ]
    },
    {
      "cell_type": "code",
      "source": [
        "nums = {1, 2, 3, 4, 5, 6}\n",
        "nums = {0, 1, 2, 3} & nums # & simply return the common elements in both. so 0,4,5 and 6 are excluded from the list now we are left with 1,2,3\n",
        "nums = filter(lambda x: x >1, nums) #we filter for numbers greater than 1, so 1 is exclude and we only have 2 and 3 left \n",
        "print(len(list(nums))) # we only have 2 element left so the lenght of our list is 2"
      ],
      "metadata": {
        "id": "zNtPVjuVr4mr",
        "colab": {
          "base_uri": "https://localhost:8080/"
        },
        "outputId": "c4a4909c-86d2-4c11-f1b2-cf4835d69e6d"
      },
      "execution_count": 2,
      "outputs": [
        {
          "output_type": "stream",
          "name": "stdout",
          "text": [
            "2\n"
          ]
        }
      ]
    },
    {
      "cell_type": "code",
      "source": [
        "nums = {1, 2, 3, 4, 5, 6}"
      ],
      "metadata": {
        "id": "sM3wZOQaoXMK"
      },
      "execution_count": 3,
      "outputs": []
    },
    {
      "cell_type": "code",
      "source": [
        "nums"
      ],
      "metadata": {
        "colab": {
          "base_uri": "https://localhost:8080/"
        },
        "id": "k9uPtSTToa7d",
        "outputId": "bb1d1de1-a674-4eaf-a547-9ce82fa8b549"
      },
      "execution_count": 4,
      "outputs": [
        {
          "output_type": "execute_result",
          "data": {
            "text/plain": [
              "{1, 2, 3, 4, 5, 6}"
            ]
          },
          "metadata": {},
          "execution_count": 4
        }
      ]
    },
    {
      "cell_type": "code",
      "source": [
        "nums = {0, 1, 2, 3} & nums"
      ],
      "metadata": {
        "id": "RvPxei7LocUz"
      },
      "execution_count": 5,
      "outputs": []
    },
    {
      "cell_type": "code",
      "source": [
        "nums"
      ],
      "metadata": {
        "colab": {
          "base_uri": "https://localhost:8080/"
        },
        "id": "ZaFzsI44ofd2",
        "outputId": "265800e3-a349-4a74-f949-2159fbbe1d48"
      },
      "execution_count": 6,
      "outputs": [
        {
          "output_type": "execute_result",
          "data": {
            "text/plain": [
              "{1, 2, 3}"
            ]
          },
          "metadata": {},
          "execution_count": 6
        }
      ]
    },
    {
      "cell_type": "code",
      "source": [
        "nums = filter(lambda x: x >1, nums)\n",
        "nums"
      ],
      "metadata": {
        "colab": {
          "base_uri": "https://localhost:8080/"
        },
        "id": "hooPJubFoglZ",
        "outputId": "5f9fc1b6-044f-4277-d931-926164de8e4f"
      },
      "execution_count": 8,
      "outputs": [
        {
          "output_type": "execute_result",
          "data": {
            "text/plain": [
              "<filter at 0x7f85105812b0>"
            ]
          },
          "metadata": {},
          "execution_count": 8
        }
      ]
    },
    {
      "cell_type": "code",
      "source": [
        "def power(x,y): #x**y\n",
        "  if y == 0:\n",
        "    return 1\n",
        "  else:\n",
        "    return x * power(x,y-1) # x**y-1\n",
        "print(power(2,3)) # y is more then one so we have 2*power(2, 3-1) = x * 2**2 > 2*2*2 = 8"
      ],
      "metadata": {
        "colab": {
          "base_uri": "https://localhost:8080/"
        },
        "id": "tiXmPvQjopmj",
        "outputId": "2a992e9a-8163-4155-8920-2c4916681105"
      },
      "execution_count": 9,
      "outputs": [
        {
          "output_type": "stream",
          "name": "stdout",
          "text": [
            "8\n"
          ]
        }
      ]
    },
    {
      "cell_type": "code",
      "source": [
        "a = (lambda x:x*(x+1))(6)\n",
        "print(a)"
      ],
      "metadata": {
        "colab": {
          "base_uri": "https://localhost:8080/"
        },
        "id": "Q0kqy7D_qOJ2",
        "outputId": "2c59d8ee-21d4-412a-8d21-de2643eab1ac"
      },
      "execution_count": 10,
      "outputs": [
        {
          "output_type": "stream",
          "name": "stdout",
          "text": [
            "42\n"
          ]
        }
      ]
    },
    {
      "cell_type": "code",
      "source": [
        "nums = [1,2,8,3,7]\n",
        "res = list(filter(lambda x:x%2==0,nums))\n",
        "print(res)"
      ],
      "metadata": {
        "colab": {
          "base_uri": "https://localhost:8080/"
        },
        "id": "lh_6uXC5sgyu",
        "outputId": "a54838b1-9df6-4c00-a5cd-e0ea27a49e8c"
      },
      "execution_count": 12,
      "outputs": [
        {
          "output_type": "stream",
          "name": "stdout",
          "text": [
            "[2, 8]\n"
          ]
        }
      ]
    },
    {
      "cell_type": "code",
      "source": [
        "def func(**kwargs):\n",
        "  print(kwargs['zero']) #kwargs is a dictionary so kwargs[zero] should return the corresponding value of zero.\n",
        "func(a=0, zero=8)"
      ],
      "metadata": {
        "colab": {
          "base_uri": "https://localhost:8080/"
        },
        "id": "MXgqIyjUsvX_",
        "outputId": "db957cda-d041-40a3-955c-7eb852f2613e"
      },
      "execution_count": 13,
      "outputs": [
        {
          "output_type": "stream",
          "name": "stdout",
          "text": [
            "8\n"
          ]
        }
      ]
    }
  ]
}